{
 "cells": [
  {
   "cell_type": "code",
   "execution_count": 49,
   "metadata": {},
   "outputs": [],
   "source": [
    "import numpy as np\n",
    "import pandas as pd\n",
    "from sklearn.cluster import KMeans\n",
    "from sklearn.cluster import DBSCAN"
   ]
  },
  {
   "cell_type": "code",
   "execution_count": 50,
   "metadata": {},
   "outputs": [],
   "source": [
    "df=pd.read_excel(\"adolescents_lipidomics_new.xlsx\",sheet_name= 'DatawithAssignments')"
   ]
  },
  {
   "cell_type": "code",
   "execution_count": 51,
   "metadata": {},
   "outputs": [
    {
     "name": "stdout",
     "output_type": "stream",
     "text": [
      "(991, 84)\n"
     ]
    },
    {
     "data": {
      "text/plain": [
       "array([[0.10897344, 0.04951486, 0.92736722, ..., 0.03614066, 0.22783465,\n",
       "        0.1616116 ],\n",
       "       [0.09151078, 0.03247746, 0.54583958, ..., 0.0303714 , 0.18846732,\n",
       "        0.13387801],\n",
       "       [0.11308413, 0.04214686, 0.59700313, ..., 0.07342801, 0.16893503,\n",
       "        0.1003507 ],\n",
       "       ...,\n",
       "       [0.15573495, 0.03977705, 0.14008295, ..., 0.13598758, 0.14115383,\n",
       "        0.18376514],\n",
       "       [0.29778787, 0.07916505, 0.17131569, ..., 0.17330955, 0.20659814,\n",
       "        0.19552447],\n",
       "       [0.23058907, 0.06444064, 0.11719671, ..., 0.0810121 , 0.19250761,\n",
       "        0.20018485]])"
      ]
     },
     "execution_count": 51,
     "metadata": {},
     "output_type": "execute_result"
    }
   ],
   "source": [
    "df1 = df.iloc[1:,7:]\n",
    "nmp=df1.to_numpy()\n",
    "print(nmp.shape)\n",
    "nmp.astype(float)"
   ]
  },
  {
   "cell_type": "code",
   "execution_count": 52,
   "metadata": {},
   "outputs": [
    {
     "name": "stdout",
     "output_type": "stream",
     "text": [
      "(84,)\n"
     ]
    }
   ],
   "source": [
    "val1 = np.nanmean(nmp, axis=0)\n",
    "print(val1.shape)"
   ]
  },
  {
   "cell_type": "code",
   "execution_count": 53,
   "metadata": {},
   "outputs": [
    {
     "name": "stdout",
     "output_type": "stream",
     "text": [
      "nan\n",
      "True\n"
     ]
    }
   ],
   "source": [
    "print(nmp[243,31])\n",
    "inval1 = pd.isna(nmp)\n",
    "print(inval1[243,31])"
   ]
  },
  {
   "cell_type": "code",
   "execution_count": 54,
   "metadata": {},
   "outputs": [],
   "source": [
    "for i in range(nmp.shape[0]):\n",
    "    for j in range(nmp.shape[1]):\n",
    "        if inval1[i,j]:\n",
    "            nmp[i,j] = val1[j]"
   ]
  },
  {
   "cell_type": "markdown",
   "metadata": {},
   "source": [
    "Standardization"
   ]
  },
  {
   "cell_type": "code",
   "execution_count": 55,
   "metadata": {},
   "outputs": [],
   "source": [
    "from sklearn.preprocessing import scale\n",
    "nmp_scaled = scale(nmp)"
   ]
  },
  {
   "cell_type": "markdown",
   "metadata": {},
   "source": [
    "K-means"
   ]
  },
  {
   "cell_type": "code",
   "execution_count": 56,
   "metadata": {},
   "outputs": [
    {
     "name": "stdout",
     "output_type": "stream",
     "text": [
      "[1 1 1 1 1 1 1 1 1 1 1 1 1 1 1 1 1 0 1 1 1 2 1 1 1 0 1 1 0 0 1 1 1 0 1 0 0\n",
      " 0 3 0 3 0 0 3 3 3 0 1 0 0 0 0 1 0 1 1 1 0 1 1 0 0 1 0 1 0 1 0 0 1 0 1 1 1\n",
      " 1 1 0 1 1 1 0 0 0 1 1 1 1 1 1 1 1 0 3 0 0 1 0 1 1 0 1 0 1 3 1 1 1 1 1 1 1\n",
      " 0 1 1 1 1 0 1 1 1 1 1 1 1 1 1 1 0 0 0 0 1 1 0 1 0 1 1 1 1 1 1 0 0 0 1 1 0\n",
      " 1 1 1 1 1 1 1 0 1 1 1 1 0 1 1 1 1 1 1 1 1 1 1 1 1 0 0 1 0 1 0 0 1 1 1 1 1\n",
      " 1 0 1 1 0 1 1 1 1 1 0 0 0 0 0 0 0 1 1 0 0 1 0 1 1 1 3 0 1 1 0 1 0 1 0 1 1\n",
      " 1 0 1 1 1 1 0 1 0 1 1 1 0 1 0 0 0 0 1 0 1 1 0 1 0 1 0 0 0 1 0 3 1 0 1 0 0\n",
      " 1 1 0 0 0 0 0 0 0 0 1 1 0 1 0 0 1 0 0 0 1 3 0 1 0 0 1 1 1 1 0 0 0 3 0 0 0\n",
      " 0 0 0 0 1 1 1 0 0 0 0 0 0 1 1 1 1 1 1 0 1 1 0 1 1 1 0 1 1 0 1 1 1 0 1 0 1\n",
      " 1 1 1 0 1 1 1 0 0 1 0 0 0 1 0 0 0 1 0 0 0 0 0 1 1 0 0 0 0 0 0 0 0 0 1 0 1\n",
      " 1 1 0 1 1 0 1 1 1 0 1 1 1 1 0 0 0 0 1 1 0 0 0 1 1 3 1 0 0 1 0 0 1 1 0 1 0\n",
      " 0 1 1 1 1 1 0 0 0 0 1 3 1 1 1 0 1 1 1 1 1 1 1 1 1 1 1 1 1 0 0 1 1 1 1 1 0\n",
      " 1 1 1 1 1 1 1 1 0 0 0 1 0 1 0 0 1 1 1 0 1 1 1 0 1 1 1 1 0 1 1 0 0 1 1 1 1\n",
      " 1 1 1 3 1 1 1 0 0 1 1 1 1 1 1 1 0 1 0 0 1 1 0 0 1 4 1 1 0 1 1 1 1 1 0 1 1\n",
      " 1 1 1 0 1 1 0 1 0 1 0 0 0 1 3 1 0 1 0 1 3 0 1 1 0 1 1 1 1 1 1 1 1 1 1 1 1\n",
      " 1 1 1 1 0 1 0 1 1 1 4 1 1 0 0 0 1 1 1 1 0 0 1 1 1 1 1 0 0 1 1 1 0 1 1 1 0\n",
      " 0 1 1 1 1 1 0 0 1 0 0 1 0 1 1 1 1 1 0 1 0 0 1 0 1 1 1 0 1 1 0 1 1 1 1 1 1\n",
      " 1 1 1 1 0 1 1 1 0 1 1 1 1 0 1 1 1 1 0 0 1 0 1 0 1 0 1 1 0 1 1 1 1 1 1 1 1\n",
      " 1 1 1 0 3 1 1 1 1 0 0 1 1 1 0 0 0 0 0 0 1 0 0 3 0 3 1 0 1 1 1 1 1 1 0 3 0\n",
      " 1 1 1 1 0 1 1 1 1 1 1 0 1 0 1 1 1 1 1 1 1 1 0 1 1 1 1 1 1 1 0 0 0 0 1 0 1\n",
      " 3 1 0 1 0 1 0 1 1 1 1 1 1 1 0 0 0 0 0 1 3 1 0 1 0 0 0 0 1 0 1 0 1 1 1 0 1\n",
      " 0 0 0 3 0 0 1 0 1 0 0 1 0 0 3 0 3 0 1 1 0 0 3 3 3 0 0 3 0 3 3 0 3 3 3 1 0\n",
      " 0 1 0 0 0 0 1 0 0 1 0 1 0 0 0 0 1 1 1 1 0 0 1 1 1 1 0 3 3 3 3 3 3 0 3 3 0\n",
      " 0 3 1 3 3 3 0 0 0 1 0 1 3 0 3 1 4 3 3 0 1 3 3 0 0 3 0 0 0 1 1 0 0 0 1 0 1\n",
      " 3 1 0 1 0 1 1 1 1 3 1 1 0 0 1 1 1 1 1 1 0 0 0 3 3 0 0 0 3 3 3 3 3 0 0 3 0\n",
      " 0 3 0 1 0 0 4 1 0 0 0 1 1 0 1 0 0 1 0 1 1 0 1 1 0 0 3 3 3 1 3 0 3 3 3 0 0\n",
      " 0 0 1 1 0 1 1 1 0 1 0 3 0 0 1 0 0 1 0 0 1 0 1 1 3 0 0 0 1]\n",
      "[[ 2.79248933e-02  5.36863398e-03  3.80315758e-02  1.46485495e-01\n",
      "   9.32038681e-02  2.00899406e-01  3.11311399e-01  3.90099495e-01\n",
      "   3.83445103e-01  2.74610910e-01  1.37166029e-01  4.96366984e-02\n",
      "   3.95184201e-01  2.23698540e-01  2.56764202e-01  2.20162265e-01\n",
      "   4.91507278e-01  2.92480683e-01  3.40811269e-01  1.78882809e-01\n",
      "   4.99747102e-03  7.29107342e-03  3.37103239e-01  9.75354636e-02\n",
      "   3.11122106e-01  2.95160610e-01  3.44557888e-01  2.32049143e-01\n",
      "   4.64731397e-01  2.52115724e-01  3.56882218e-01  9.17215927e-02\n",
      "  -1.11375615e-02  1.74565267e-01  3.33409899e-01  8.42864237e-02\n",
      "   3.93184491e-02  2.70842560e-01  3.76429295e-02  6.17533851e-02\n",
      "   2.51761584e-01  1.33953046e-01  2.67826989e-01  1.66122302e-01\n",
      "   4.91487830e-01  1.64494475e-01  4.57155162e-01  8.09119791e-02\n",
      "   2.88413728e-01  1.24059414e-01  2.72054536e-01 -8.66914493e-04\n",
      "   7.16375316e-02  2.07004077e-02 -6.25125308e-02  1.48927361e-01\n",
      "   3.12740089e-01 -3.66994012e-02  1.34548514e-01  3.91462420e-01\n",
      "   7.57482087e-02  9.05957868e-02  3.53394012e-01  1.19202340e-01\n",
      "   1.74823268e-01 -8.17563702e-03 -2.62855253e-02  2.26812415e-01\n",
      "  -7.26265301e-02 -1.84658814e-02 -2.82667317e-02  2.92334086e-03\n",
      "   1.23505703e-01  9.02749816e-03 -2.50979533e-02  2.26746755e-01\n",
      "   2.66717110e-03 -1.97558491e-02 -1.55577568e-02  1.29384768e-02\n",
      "   1.81071810e-01  4.08097926e-03 -4.13711348e-02  3.14372635e-02]\n",
      " [-7.10030721e-02 -2.79101001e-02 -6.33258007e-02 -1.58256883e-01\n",
      "  -1.14676651e-01 -1.88084347e-01 -4.57448729e-01 -3.90440417e-01\n",
      "  -4.79620062e-01 -4.87651035e-01 -1.55090714e-01 -4.66311493e-02\n",
      "  -4.73253396e-01 -3.11290825e-01 -2.63394427e-01 -3.18385033e-01\n",
      "  -5.66482570e-01 -4.34918049e-01 -5.31659580e-01 -3.65479407e-01\n",
      "  -1.00655245e-01 -9.01978871e-02 -4.58832910e-01 -1.02448529e-01\n",
      "  -2.76080327e-01 -3.90395246e-01 -4.15189941e-01 -3.61286341e-01\n",
      "  -5.56184001e-01 -3.82417068e-01 -4.09303947e-01 -5.49489402e-02\n",
      "  -6.94561905e-02 -2.63673990e-01 -5.02570397e-01 -1.25943586e-01\n",
      "  -5.84395336e-02 -4.93348826e-01 -7.11788344e-02 -8.32826643e-02\n",
      "  -4.21683444e-01 -1.73008289e-01 -2.35537879e-01 -3.46731818e-01\n",
      "  -5.78623096e-01 -3.55987895e-01 -5.68164639e-01 -3.52049796e-01\n",
      "  -5.03186882e-01 -3.56540973e-01 -5.12588776e-01 -1.04253105e-01\n",
      "  -2.55297932e-01 -7.24959127e-02 -3.93742148e-02 -2.96544877e-01\n",
      "  -4.56726220e-01 -5.16310919e-02 -2.92992885e-01 -5.34718022e-01\n",
      "  -3.21227749e-01 -3.21412716e-01 -5.33634281e-01 -1.88289190e-01\n",
      "  -4.28781904e-01 -1.92633618e-01 -1.79500064e-01 -4.72091731e-01\n",
      "  -2.91565231e-02 -5.28232768e-02 -1.77811120e-01 -2.08373895e-01\n",
      "  -2.62101331e-01 -9.30925197e-02 -1.60012770e-01 -4.52146428e-01\n",
      "  -1.60229608e-01 -1.80029396e-01 -1.92290897e-01 -2.42330954e-01\n",
      "  -2.83449100e-01 -2.76859802e-01 -8.21316506e-04 -2.04257275e-01]\n",
      " [ 1.31547350e+01  1.32542504e+01  2.54165768e+01  2.19290556e+01\n",
      "   2.31448169e+01  2.05561507e+01  6.43112306e+00  9.19010853e+00\n",
      "   1.48423882e+01  1.44058903e+01  1.89503742e+01  4.09052321e+00\n",
      "   1.32495628e+01  1.66946832e+01  1.25305407e+01  1.20941505e+01\n",
      "  -7.16778011e-16  1.50283032e+01  1.35467730e+01  7.63748983e+00\n",
      "   2.36005443e+01  2.41665667e+01  1.33756699e+01  1.19206478e+01\n",
      "   1.14562968e+01  1.80066659e+01  1.82161348e+01  1.35628671e+01\n",
      "   1.54705754e+01  1.14237053e+01  1.19477578e+01  1.65539791e-01\n",
      "   8.00761987e+00  1.77617151e+01  1.34340416e+01  2.16267726e+01\n",
      "   7.99054390e-01  1.13932000e+01  2.21813179e+01  2.72057726e+01\n",
      "   7.16988725e+00  1.28382380e+01  1.31156968e+01 -2.28649987e-01\n",
      "  -3.92068525e-01  1.10351789e-01 -5.84177268e-01  1.30314704e+01\n",
      "   1.34644195e+01  1.12952106e+01  8.46922012e+00  1.02292779e+00\n",
      "   3.54613808e-16  1.04025600e+01  1.46872301e+01  1.00496864e+01\n",
      "   1.47206902e+01  1.37973980e+00  1.82417274e+01  2.95291637e+00\n",
      "   1.52122922e+01  7.37282583e+00  9.32178712e+00  1.26187548e+01\n",
      "   5.52740141e+00  3.56550453e+00  2.90900923e+00  5.53372224e+00\n",
      "   1.15089319e+01  3.00345633e+00  2.77325401e+00  8.44314741e+00\n",
      "   5.01378462e+00  9.34553826e+00  2.19232891e+00  3.58431128e+00\n",
      "   2.61189025e+00  3.10510589e+00  3.18047684e+00  2.64745518e+00\n",
      "   4.00224762e+00  7.16894516e+00  5.44263599e-01  2.72636402e+00]\n",
      " [ 1.70335986e-01 -7.67128871e-02 -7.78405306e-02  1.18688721e-01\n",
      "   4.62756258e-02  1.02197965e-01  1.73988530e+00  7.77340248e-01\n",
      "   1.38085424e+00  2.01433240e+00  1.67503401e-01  5.50176065e-02\n",
      "   1.29416778e+00  9.10992310e-01  4.82644094e-01  1.06410044e+00\n",
      "   1.67689026e+00  1.53661106e+00  2.00538022e+00  1.68522224e+00\n",
      "   3.54103913e-01  2.61105704e-01  1.48688343e+00  1.02565612e-01\n",
      "   3.16068388e-01  1.11982453e+00  1.06697221e+00  1.28594034e+00\n",
      "   1.51210770e+00  1.38470291e+00  1.02362102e+00 -4.92825186e-02\n",
      "   5.27921798e-02  8.33979386e-01  1.83045638e+00  1.07822812e-01\n",
      "   2.19582208e-01  2.10412228e+00  2.15223396e-02 -7.47443493e-02\n",
      "   1.70024971e+00  4.19919346e-01  2.36144303e-01  1.70568641e+00\n",
      "   1.82582597e+00  1.77931439e+00  1.89574461e+00  1.97910446e+00\n",
      "   2.07735861e+00  1.80028355e+00  2.27631825e+00  3.34468333e-01\n",
      "   1.13956607e+00  3.16121959e-01  2.82122368e-01  1.30877452e+00\n",
      "   1.62425159e+00  7.95529893e-02  1.24088959e+00  1.93987043e+00\n",
      "   1.77145868e+00  1.80269140e+00  2.01701824e+00  3.98359704e-01\n",
      "   2.18907922e+00  7.81225713e-01  8.15823319e-01  2.23233018e+00\n",
      "   2.67437375e-01  2.04386497e-02  7.32707964e-01  8.95858623e-01\n",
      "   9.47697099e-01  3.65158403e-01  6.16738206e-01  2.12139263e+00\n",
      "   5.30067208e-01  7.28155083e-01  8.07181404e-01  1.09268158e+00\n",
      "   1.04501270e+00  1.45078814e+00  1.34501878e-01  7.85806719e-01]\n",
      " [ 5.34638975e-01  1.33704662e+00  1.83054302e-02 -9.57975156e-02\n",
      "   5.54125889e-02 -5.41125211e-01 -1.01927707e+00 -5.41578195e-01\n",
      "  -3.50266930e-01 -5.18747327e-01  2.05855208e-01 -4.08253015e-01\n",
      "  -3.26889883e-01  9.75972604e-02 -5.85983481e-01 -2.60796094e-01\n",
      "  -4.90148816e-01 -7.23814063e-01 -4.27725359e-01 -2.77961519e-01\n",
      "   7.07085067e-01  6.41256910e-01 -3.69942314e-01 -2.16607002e-01\n",
      "  -6.67215786e-01 -1.01610751e-01 -4.85531601e-01 -2.07224363e-02\n",
      "  -2.25429735e-01 -3.27507958e-01 -7.43500547e-02 -3.50245846e-01\n",
      "   7.42064176e+00 -5.61894761e-01 -4.25798926e-01  1.66310057e+00\n",
      "  -3.31262292e-02 -2.84604482e-01  1.06416421e-01 -2.52202772e-02\n",
      "   2.91745657e-01 -1.61570792e-01 -1.01749322e+00 -1.01507857e-02\n",
      "  -1.47548433e+00 -4.10606264e-02 -8.91447306e-01  3.88675502e-01\n",
      "  -6.38050807e-01  6.45213438e-01 -2.22035368e-01  7.74353686e+00\n",
      "   6.82447236e+00 -5.59828707e-01  2.33584091e+00 -4.74210718e-01\n",
      "  -1.21247081e+00  8.58817372e+00 -4.13047010e-01 -9.20892391e-01\n",
      "  -2.84562228e-02 -5.66924540e-03 -4.97907437e-01  3.72492335e+00\n",
      "  -5.10614406e-02  1.15269422e+01  1.09909988e+01  1.09217686e-01\n",
      "   2.97232447e+00  7.71203767e+00  1.25003680e+01  9.29201893e+00\n",
      "   5.12505119e+00  2.67409054e+00  1.20710962e+01 -5.53071243e-02\n",
      "   1.09741358e+01  1.20009579e+01  1.17954855e+01  1.07772286e+01\n",
      "   1.07637804e+00  8.58593162e+00  1.39828578e+00  9.50279635e+00]]\n"
     ]
    }
   ],
   "source": [
    "estimator1 = KMeans(n_clusters=5)\n",
    "estimator1.fit(nmp_scaled)\n",
    "print(estimator1.labels_)\n",
    "print(estimator1.cluster_centers_)"
   ]
  },
  {
   "cell_type": "code",
   "execution_count": 57,
   "metadata": {},
   "outputs": [
    {
     "data": {
      "image/png": "[encoded data removed]",
      "text/plain": [
       "<Figure size 432x288 with 1 Axes>"
      ]
     },
     "metadata": {
      "needs_background": "light"
     },
     "output_type": "display_data"
    }
   ],
   "source": [
    "import matplotlib.pyplot as plt\n",
    "SSE = []  \n",
    "for k in range(1,15):\n",
    "    estimator = KMeans(n_clusters=k)\n",
    "    estimator.fit(nmp_scaled)\n",
    "    SSE.append(estimator.inertia_)\n",
    "X = range(1,15)\n",
    "plt.xlabel('k')\n",
    "plt.ylabel('SSE')\n",
    "plt.plot(X,SSE,'o-')\n",
    "plt.show()"
   ]
  },
  {
   "cell_type": "markdown",
   "metadata": {},
   "source": [
    "DBSCAN"
   ]
  },
  {
   "cell_type": "code",
   "execution_count": 58,
   "metadata": {},
   "outputs": [],
   "source": [
    "estimator2 = DBSCAN(eps = 0.1, min_samples = 10).fit_predict(nmp_scaled)"
   ]
  }
 ],
 "metadata": {
  "kernelspec": {
   "display_name": "Python 3.10.5 64-bit",
   "language": "python",
   "name": "python3"
  },
  "language_info": {
   "codemirror_mode": {
    "name": "ipython",
    "version": 3
   },
   "file_extension": ".py",
   "mimetype": "text/x-python",
   "name": "python",
   "nbconvert_exporter": "python",
   "pygments_lexer": "ipython3",
   "version": "3.10.5"
  },
  "orig_nbformat": 4,
  "vscode": {
   "interpreter": {
    "hash": "21df974e0a74f845a944bf5b01184a15d40dbbd4d60d49093b5b181fb3151fe9"
   }
  }
 },
 "nbformat": 4,
 "nbformat_minor": 2
}
